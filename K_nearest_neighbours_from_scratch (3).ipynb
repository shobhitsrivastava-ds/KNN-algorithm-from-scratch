{
 "cells": [
  {
   "cell_type": "code",
   "execution_count": 3,
   "metadata": {},
   "outputs": [],
   "source": [
    "import numpy as np\n",
    "import pandas as pd\n",
    "import matplotlib.pyplot as plt\n",
    "import math"
   ]
  },
  {
   "cell_type": "markdown",
   "metadata": {},
   "source": [
    "Function to calculate the distance between points :"
   ]
  },
  {
   "cell_type": "code",
   "execution_count": 6,
   "metadata": {},
   "outputs": [],
   "source": [
    "def euclediean_destance(data1,data2):\n",
    "    length=len(data1)\n",
    "    distance=0\n",
    "    if(length!=len(data2)):\n",
    "        print(\"The data must be of the same shape\")\n",
    "    else:\n",
    "        for i in range(length):\n",
    "            distance =distance + pow((data1[i] - data2[i]),2)\n",
    "        return(math.sqrt(distance))\n",
    "        "
   ]
  },
  {
   "cell_type": "markdown",
   "metadata": {},
   "source": [
    "Calculating the neighbour index from the train_label :-"
   ]
  },
  {
   "cell_type": "code",
   "execution_count": null,
   "metadata": {},
   "outputs": [],
   "source": [
    "def get_neighbour(train_data,test_data_point,k):\n",
    "    dist=[]\n",
    "    distance=0\n",
    "    length=len(train_data)-1\n",
    "    for i in range(length):\n",
    "        distance=euclidean_distance(test_data_point,train_data)\n",
    "        dist.append((train_data[i],distance,i)\n",
    "    dist.sort(key=operator.itemgetter(1))\n",
    "    neighbors=[]\n",
    "    for index in range(k):\n",
    "        neighbours.append(dist[index][2])\n",
    "    return neighbours  "
   ]
  },
  {
   "cell_type": "markdown",
   "metadata": {},
   "source": [
    "Function for the Input:"
   ]
  },
  {
   "cell_type": "code",
   "execution_count": 9,
   "metadata": {},
   "outputs": [],
   "source": [
    "def fit(self,train_feature,train_label):\n",
    "    self.train_feature=train_feature\n",
    "    self.train_label=train_label\n",
    "    "
   ]
  },
  {
   "cell_type": "markdown",
   "metadata": {},
   "source": [
    "Implementing the KNN classifier :\n"
   ]
  },
  {
   "cell_type": "code",
   "execution_count": 11,
   "metadata": {},
   "outputs": [],
   "source": [
    "def predict(self,test_feature_data_point,k):\n",
    "    #get the index of all the nearest data points:\n",
    "    nearest_data_point_index=get_neighbour(self.train_feature,test_feature_data_point,k)\n",
    "    max_index_keeper={}\n",
    "    print(\"Nearest point index is equal to :\".format(nearest_data_point_index))\n",
    "    #running the for loop for using it as key of the dictionary for later counting process\n",
    "    for label in set(self.train_label):\n",
    "        max_index_keeper[label]=0\n",
    "    #adding count to max_index_keeper\n",
    "    for class_index in nearest_data_point_index:\n",
    "        closest_label= self.train_label[class_index]\n",
    "        vote_counter[closest_label]+=1\n",
    "    return max(vote_counter.items(), key = operator.itemgetter(1))[0]\n",
    "        \n",
    "        \n",
    "    "
   ]
  },
  {
   "cell_type": "markdown",
   "metadata": {},
   "source": [
    "Implementing the KNN Regressor :\n"
   ]
  },
  {
   "cell_type": "code",
   "execution_count": 12,
   "metadata": {},
   "outputs": [],
   "source": [
    "def predict_reg(self,test_data_point):\n",
    "    nearest_data_point_index=get_neighbour(self.train_feature,test_data_point)\n",
    "    total_val=0\n",
    "    for index in nearest_data_point_index:\n",
    "        #calculating the sum of all the data points near of k number\n",
    "        total_val=self.train.label[index]\n",
    "    return(total_val/self.k)"
   ]
  },
  {
   "cell_type": "markdown",
   "metadata": {},
   "source": [
    "Optimizing the computation :\n",
    "    "
   ]
  },
  {
   "cell_type": "code",
   "execution_count": 17,
   "metadata": {},
   "outputs": [],
   "source": [
    " def get_neighbors_v(train_set, test_set, k):\n",
    "    #return k closet neighbour of test_set in training set\n",
    "    # calculate euclidean distance\n",
    "    euc_distance = np.sqrt(np.sum((train_set - test_set)**2 , axis=1))\n",
    "    # return the index of nearest neighbour\n",
    "    return np.argsort(euc_distance)[0:k]\n",
    "    "
   ]
  },
  {
   "cell_type": "code",
   "execution_count": null,
   "metadata": {},
   "outputs": [],
   "source": []
  }
 ],
 "metadata": {
  "kernelspec": {
   "display_name": "Python 3",
   "language": "python",
   "name": "python3"
  },
  "language_info": {
   "codemirror_mode": {
    "name": "ipython",
    "version": 3
   },
   "file_extension": ".py",
   "mimetype": "text/x-python",
   "name": "python",
   "nbconvert_exporter": "python",
   "pygments_lexer": "ipython3",
   "version": "3.7.1"
  }
 },
 "nbformat": 4,
 "nbformat_minor": 2
}
